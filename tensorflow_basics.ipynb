{
  "nbformat": 4,
  "nbformat_minor": 0,
  "metadata": {
    "colab": {
      "provenance": [],
      "authorship_tag": "ABX9TyOuUF49I73y16Lfk3nC6N+z",
      "include_colab_link": true
    },
    "kernelspec": {
      "name": "python3",
      "display_name": "Python 3"
    },
    "language_info": {
      "name": "python"
    },
    "accelerator": "GPU"
  },
  "cells": [
    {
      "cell_type": "markdown",
      "metadata": {
        "id": "view-in-github",
        "colab_type": "text"
      },
      "source": [
        "<a href=\"https://colab.research.google.com/github/leomensah/TENSORFLOW/blob/main/tensorflow_basics.ipynb\" target=\"_parent\"><img src=\"https://colab.research.google.com/assets/colab-badge.svg\" alt=\"Open In Colab\"/></a>"
      ]
    },
    {
      "cell_type": "code",
      "execution_count": null,
      "metadata": {
        "colab": {
          "base_uri": "https://localhost:8080/"
        },
        "id": "1tX6WBpfPSDL",
        "outputId": "f851a617-4b01-47d7-e286-1caedb654120"
      },
      "outputs": [
        {
          "output_type": "stream",
          "name": "stdout",
          "text": [
            "tf.Tensor([[4.]], shape=(1, 1), dtype=float32)\n"
          ]
        }
      ],
      "source": [
        "import tensorflow as tf\n",
        "\n",
        "\n",
        "# Initialization of Tensors\n",
        "x = tf.constant(4, shape=(1,1), dtype=tf.float32)\n",
        "print(x)"
      ]
    },
    {
      "cell_type": "code",
      "source": [
        "x = tf.constant([[1,2,3], [4,5,6]])\n",
        "print(x)"
      ],
      "metadata": {
        "colab": {
          "base_uri": "https://localhost:8080/"
        },
        "id": "4c-qAZlzP06f",
        "outputId": "ffa17916-99eb-4b78-9f22-a87ea388872d"
      },
      "execution_count": null,
      "outputs": [
        {
          "output_type": "stream",
          "name": "stdout",
          "text": [
            "tf.Tensor(\n",
            "[[1 2 3]\n",
            " [4 5 6]], shape=(2, 3), dtype=int32)\n"
          ]
        }
      ]
    },
    {
      "cell_type": "code",
      "source": [
        "x = tf.ones((3,3))\n",
        "print(x)\n",
        "x = tf.zeros((2,3))\n",
        "print(x)\n",
        "x = tf.eye(3)\n",
        "print(x)"
      ],
      "metadata": {
        "colab": {
          "base_uri": "https://localhost:8080/"
        },
        "id": "ryqPzP7aP8g7",
        "outputId": "a07d1d86-ee88-4f24-edbd-acf8b76eac31"
      },
      "execution_count": null,
      "outputs": [
        {
          "output_type": "stream",
          "name": "stdout",
          "text": [
            "tf.Tensor(\n",
            "[[1. 1. 1.]\n",
            " [1. 1. 1.]\n",
            " [1. 1. 1.]], shape=(3, 3), dtype=float32)\n",
            "tf.Tensor(\n",
            "[[0. 0. 0.]\n",
            " [0. 0. 0.]], shape=(2, 3), dtype=float32)\n",
            "tf.Tensor(\n",
            "[[1. 0. 0.]\n",
            " [0. 1. 0.]\n",
            " [0. 0. 1.]], shape=(3, 3), dtype=float32)\n"
          ]
        }
      ]
    },
    {
      "cell_type": "code",
      "source": [
        "## Random Normal distribution\n",
        "x = tf.random.normal((3,3), mean=0, stddev=1)\n",
        "print(x)\n",
        "\n",
        "x = tf.random.uniform((1,3), minval=0, maxval=1)\n",
        "print(x)\n",
        "\n",
        "x = tf.range(9)\n",
        "print(x)\n",
        "\n",
        "x = tf.range(start=1, limit=10, delta=2)\n",
        "print(x)"
      ],
      "metadata": {
        "colab": {
          "base_uri": "https://localhost:8080/"
        },
        "id": "jX8WGAMAQNbg",
        "outputId": "7e51bb4f-9959-498a-dae6-0c3ce9d20ef1"
      },
      "execution_count": null,
      "outputs": [
        {
          "output_type": "stream",
          "name": "stdout",
          "text": [
            "tf.Tensor(\n",
            "[[-0.06967314 -0.14190735 -0.41328487]\n",
            " [ 0.09124216 -0.15155008 -0.50286525]\n",
            " [ 0.34172484  1.7169183   0.83328325]], shape=(3, 3), dtype=float32)\n",
            "tf.Tensor([[0.02106512 0.00647044 0.07762408]], shape=(1, 3), dtype=float32)\n",
            "tf.Tensor([0 1 2 3 4 5 6 7 8], shape=(9,), dtype=int32)\n",
            "tf.Tensor([1 3 5 7 9], shape=(5,), dtype=int32)\n"
          ]
        }
      ]
    },
    {
      "cell_type": "code",
      "source": [
        "x = tf.cast(x, dtype=tf.float64)\n",
        "print(x)\n",
        "# tf.float (16, 32, 64), tf.int(8, 16, 32, 64), tf.bool"
      ],
      "metadata": {
        "colab": {
          "base_uri": "https://localhost:8080/"
        },
        "id": "aaRcde4bQ2J4",
        "outputId": "a584c21c-43b4-4900-d18e-49f09dd61192"
      },
      "execution_count": null,
      "outputs": [
        {
          "output_type": "stream",
          "name": "stdout",
          "text": [
            "tf.Tensor([1. 3. 5. 7. 9.], shape=(5,), dtype=float64)\n"
          ]
        }
      ]
    },
    {
      "cell_type": "markdown",
      "source": [
        "### **Adding of Tensors**"
      ],
      "metadata": {
        "id": "_MUefOWNRoxp"
      }
    },
    {
      "cell_type": "code",
      "source": [
        "x = tf.constant([1,2,3])\n",
        "y = tf.constant([9,8,7])\n",
        "\n",
        "z = tf.add(x, y)\n",
        "print(z)"
      ],
      "metadata": {
        "colab": {
          "base_uri": "https://localhost:8080/"
        },
        "id": "g_iyin3NRWu-",
        "outputId": "af63cf79-cc20-44e0-db37-a22f59474b61"
      },
      "execution_count": null,
      "outputs": [
        {
          "output_type": "stream",
          "name": "stdout",
          "text": [
            "tf.Tensor([10 10 10], shape=(3,), dtype=int32)\n"
          ]
        }
      ]
    },
    {
      "cell_type": "code",
      "source": [
        "z = x + y\n",
        "print(z)"
      ],
      "metadata": {
        "colab": {
          "base_uri": "https://localhost:8080/"
        },
        "id": "YxfsdBKqRhmk",
        "outputId": "d0bcaa83-fa3f-472c-8f42-6b2ee31f879c"
      },
      "execution_count": null,
      "outputs": [
        {
          "output_type": "stream",
          "name": "stdout",
          "text": [
            "tf.Tensor([10 10 10], shape=(3,), dtype=int32)\n"
          ]
        }
      ]
    },
    {
      "cell_type": "markdown",
      "source": [
        "### **Subtract Tensors**"
      ],
      "metadata": {
        "id": "g52n8kShRwNI"
      }
    },
    {
      "cell_type": "code",
      "source": [
        "z = tf.subtract(x, y)\n",
        "print(z)\n",
        "z = x - y\n",
        "print(z)"
      ],
      "metadata": {
        "colab": {
          "base_uri": "https://localhost:8080/"
        },
        "id": "DAcZHw_9Rmsj",
        "outputId": "edcb5328-1d54-47c1-9f38-38ad8249a623"
      },
      "execution_count": null,
      "outputs": [
        {
          "output_type": "stream",
          "name": "stdout",
          "text": [
            "tf.Tensor([-8 -6 -4], shape=(3,), dtype=int32)\n",
            "tf.Tensor([-8 -6 -4], shape=(3,), dtype=int32)\n"
          ]
        }
      ]
    },
    {
      "cell_type": "markdown",
      "source": [
        "### **Division of Tensors**"
      ],
      "metadata": {
        "id": "KTPo8iUWR_25"
      }
    },
    {
      "cell_type": "code",
      "source": [
        "z = tf.divide(x, y)\n",
        "print(z)\n",
        "\n",
        "z = x / y\n",
        "print(z)"
      ],
      "metadata": {
        "colab": {
          "base_uri": "https://localhost:8080/"
        },
        "id": "9Ou90Tf8SCrC",
        "outputId": "ee702653-7f9b-4579-e4f0-24c552773d9a"
      },
      "execution_count": null,
      "outputs": [
        {
          "output_type": "stream",
          "name": "stdout",
          "text": [
            "tf.Tensor([0.11111111 0.25       0.42857143], shape=(3,), dtype=float64)\n",
            "tf.Tensor([0.11111111 0.25       0.42857143], shape=(3,), dtype=float64)\n"
          ]
        }
      ]
    },
    {
      "cell_type": "markdown",
      "source": [
        "### **Multiplication of Tensors**"
      ],
      "metadata": {
        "id": "GWvr-gciSSSO"
      }
    },
    {
      "cell_type": "code",
      "source": [
        "z = tf.multiply(x, y)\n",
        "z = x * y\n",
        "print(z)\n",
        "z = tf.tensordot(x, y, axes=1)\n",
        "print(z)\n",
        "\n",
        "\n",
        "z = x ** 5\n",
        "print(z)"
      ],
      "metadata": {
        "colab": {
          "base_uri": "https://localhost:8080/"
        },
        "id": "s9G7uX5MSVxY",
        "outputId": "5500c7cd-4933-4cc6-e43a-6e6bf2e13f2d"
      },
      "execution_count": null,
      "outputs": [
        {
          "output_type": "stream",
          "name": "stdout",
          "text": [
            "tf.Tensor([ 9 16 21], shape=(3,), dtype=int32)\n",
            "tf.Tensor(46, shape=(), dtype=int32)\n",
            "tf.Tensor([  1  32 243], shape=(3,), dtype=int32)\n"
          ]
        }
      ]
    },
    {
      "cell_type": "code",
      "source": [
        "x = tf.random.normal((2, 3))\n",
        "y = tf.random.normal((3, 4))\n",
        "\n",
        "z = tf.matmul(x, y)\n",
        "print(z)\n",
        "\n",
        "z = x @ y\n",
        "print(z)"
      ],
      "metadata": {
        "colab": {
          "base_uri": "https://localhost:8080/"
        },
        "id": "G7f-mJbASx4E",
        "outputId": "9a202628-8d2f-481b-9287-3b500093074f"
      },
      "execution_count": null,
      "outputs": [
        {
          "output_type": "stream",
          "name": "stdout",
          "text": [
            "tf.Tensor(\n",
            "[[ 0.27553022 -1.2623867   1.6870717   1.7062398 ]\n",
            " [ 1.09977    -0.7940798   0.24670082  1.0057094 ]], shape=(2, 4), dtype=float32)\n",
            "tf.Tensor(\n",
            "[[ 0.27553022 -1.2623867   1.6870717   1.7062398 ]\n",
            " [ 1.09977    -0.7940798   0.24670082  1.0057094 ]], shape=(2, 4), dtype=float32)\n"
          ]
        }
      ]
    },
    {
      "cell_type": "code",
      "source": [
        "# Indexing ni Tensorflow\n",
        "\n",
        "x = tf.constant([0, 1, 1, 2, 3, 1, 2, 3])\n",
        "print(x[:])\n",
        "print(x[1:])\n",
        "print(x[1:3])\n",
        "print(x[::2])\n",
        "print(x[::-1])"
      ],
      "metadata": {
        "colab": {
          "base_uri": "https://localhost:8080/"
        },
        "id": "FQfWjXWiTfuz",
        "outputId": "bd4b9ce8-5edb-454c-df89-02ce78f44ffb"
      },
      "execution_count": null,
      "outputs": [
        {
          "output_type": "stream",
          "name": "stdout",
          "text": [
            "tf.Tensor([0 1 1 2 3 1 2 3], shape=(8,), dtype=int32)\n",
            "tf.Tensor([1 1 2 3 1 2 3], shape=(7,), dtype=int32)\n",
            "tf.Tensor([1 1], shape=(2,), dtype=int32)\n",
            "tf.Tensor([0 1 3 2], shape=(4,), dtype=int32)\n",
            "tf.Tensor([3 2 1 3 2 1 1 0], shape=(8,), dtype=int32)\n"
          ]
        }
      ]
    },
    {
      "cell_type": "code",
      "source": [
        "indices = tf.constant([0, 3])\n",
        "x_ind = tf.gather(x, indices)\n",
        "\n",
        "x = tf.constant([[1, 2],\n",
        "                 [3, 4],\n",
        "                 [5, 6]])\n",
        "\n",
        "print(x[0, :])\n",
        "print(x[0:2, :])"
      ],
      "metadata": {
        "colab": {
          "base_uri": "https://localhost:8080/"
        },
        "id": "R9rcXYKRT73-",
        "outputId": "bb1feb88-186a-4d7e-864f-c0f14d4ba5ce"
      },
      "execution_count": null,
      "outputs": [
        {
          "output_type": "stream",
          "name": "stdout",
          "text": [
            "tf.Tensor([1 2], shape=(2,), dtype=int32)\n",
            "tf.Tensor(\n",
            "[[1 2]\n",
            " [3 4]], shape=(2, 2), dtype=int32)\n"
          ]
        }
      ]
    },
    {
      "cell_type": "markdown",
      "source": [
        "### **Reshaping**"
      ],
      "metadata": {
        "id": "KGNrQ5tjUXvF"
      }
    },
    {
      "cell_type": "code",
      "source": [
        "x = tf.range(9)\n",
        "print(x)\n",
        "\n",
        "x = tf.reshape(x, (3,3))\n",
        "print(x)\n",
        "\n",
        "x = tf.transpose(x, perm=[1,0])\n",
        "print(x)"
      ],
      "metadata": {
        "colab": {
          "base_uri": "https://localhost:8080/"
        },
        "id": "T2me5hsrUa6e",
        "outputId": "ed39b959-7dba-4eae-f3dd-46a6ffedee6b"
      },
      "execution_count": null,
      "outputs": [
        {
          "output_type": "stream",
          "name": "stdout",
          "text": [
            "tf.Tensor([0 1 2 3 4 5 6 7 8], shape=(9,), dtype=int32)\n",
            "tf.Tensor(\n",
            "[[0 1 2]\n",
            " [3 4 5]\n",
            " [6 7 8]], shape=(3, 3), dtype=int32)\n",
            "tf.Tensor(\n",
            "[[0 3 6]\n",
            " [1 4 7]\n",
            " [2 5 8]], shape=(3, 3), dtype=int32)\n"
          ]
        }
      ]
    },
    {
      "cell_type": "markdown",
      "source": [
        "## **Building and training Neural Networks**"
      ],
      "metadata": {
        "id": "and1wqahVp3d"
      }
    },
    {
      "cell_type": "code",
      "source": [
        "import tensorflow as tf\n",
        "from tensorflow import keras\n",
        "from tensorflow.keras import layers\n",
        "from tensorflow.keras.datasets import mnist\n",
        "\n",
        "(x_train, y_train), (x_test, y_test) = mnist.load_data()\n",
        "x_train = x_train.reshape(-1, 784).astype('float32') / 255.0\n",
        "x_test = x_test.reshape(-1, 28*28).astype('float32') / 255.0\n",
        "\n",
        "# Sequential API (Very convenient, not very flexible)\n",
        "model = keras.Sequential(\n",
        "    [\n",
        "     layers.Dense(512, activation='relu'),\n",
        "     layers.Dense(255, activation='relu', name='my_layer'),\n",
        "     layers.Dense(10)\n",
        "    ]\n",
        ")\n",
        "\n",
        "# model = keras.Model(inputs=model.inputs, outputs=[model.layers[-2].output])\n",
        "model = keras.Model(inputs=model.inputs, outputs=model.get_layer('my_layer').output])\n",
        "feature = model.predict(x_train)\n",
        "print(feature.shape)\n",
        "\n",
        "\n",
        "model.compile(\n",
        "    loss = keras.losses.SparseCategoricalCrossentropy(from_logits=True),\n",
        "    optimizer = keras.optimizers.Adam(lr=0.001),\n",
        "    metrics = [\"accuracy\"]\n",
        ")\n",
        "\n",
        "\n",
        "model.fit(x_train, y_train, batch_size=32, epochs=5, verbose=2)\n",
        "model.evaluate(x_test, y_test, batch_size=32, verbose=2)"
      ],
      "metadata": {
        "colab": {
          "base_uri": "https://localhost:8080/"
        },
        "id": "RJ8H0becVvmO",
        "outputId": "0f6e6ed6-f5bf-474a-ade3-c929a2921239"
      },
      "execution_count": null,
      "outputs": [
        {
          "output_type": "stream",
          "name": "stdout",
          "text": [
            "Epoch 1/5\n"
          ]
        },
        {
          "output_type": "stream",
          "name": "stderr",
          "text": [
            "/usr/local/lib/python3.7/dist-packages/keras/optimizer_v2/adam.py:105: UserWarning: The `lr` argument is deprecated, use `learning_rate` instead.\n",
            "  super(Adam, self).__init__(name, **kwargs)\n"
          ]
        },
        {
          "output_type": "stream",
          "name": "stdout",
          "text": [
            "1875/1875 - 9s - loss: 0.1854 - accuracy: 0.9440 - 9s/epoch - 5ms/step\n",
            "Epoch 2/5\n",
            "1875/1875 - 9s - loss: 0.0790 - accuracy: 0.9757 - 9s/epoch - 5ms/step\n",
            "Epoch 3/5\n",
            "1875/1875 - 9s - loss: 0.0541 - accuracy: 0.9829 - 9s/epoch - 5ms/step\n",
            "Epoch 4/5\n",
            "1875/1875 - 9s - loss: 0.0417 - accuracy: 0.9867 - 9s/epoch - 5ms/step\n",
            "Epoch 5/5\n",
            "1875/1875 - 9s - loss: 0.0325 - accuracy: 0.9895 - 9s/epoch - 5ms/step\n",
            "313/313 - 1s - loss: 0.0697 - accuracy: 0.9814 - 851ms/epoch - 3ms/step\n"
          ]
        },
        {
          "output_type": "execute_result",
          "data": {
            "text/plain": [
              "[0.06969050318002701, 0.9814000129699707]"
            ]
          },
          "metadata": {},
          "execution_count": 28
        }
      ]
    },
    {
      "cell_type": "code",
      "source": [
        "model = keras.Sequential()\n",
        "model.add(keras.Input(shape=(784)))\n",
        "model.add(layers.Dense(512, activation='relu'))\n",
        "print(model.summary())\n",
        "model.add(layers.Dense(256, activation='relu'))\n",
        "model.add(layers.Dense(10))\n",
        "print(model.summary())"
      ],
      "metadata": {
        "colab": {
          "base_uri": "https://localhost:8080/"
        },
        "id": "LtQtKKfhVv4F",
        "outputId": "3bcaadbf-0aa7-4395-f4f2-28846f1d7166"
      },
      "execution_count": null,
      "outputs": [
        {
          "output_type": "stream",
          "name": "stdout",
          "text": [
            "Model: \"sequential_2\"\n",
            "_________________________________________________________________\n",
            " Layer (type)                Output Shape              Param #   \n",
            "=================================================================\n",
            " dense_6 (Dense)             (None, 512)               401920    \n",
            "                                                                 \n",
            "=================================================================\n",
            "Total params: 401,920\n",
            "Trainable params: 401,920\n",
            "Non-trainable params: 0\n",
            "_________________________________________________________________\n",
            "None\n",
            "Model: \"sequential_2\"\n",
            "_________________________________________________________________\n",
            " Layer (type)                Output Shape              Param #   \n",
            "=================================================================\n",
            " dense_6 (Dense)             (None, 512)               401920    \n",
            "                                                                 \n",
            " dense_7 (Dense)             (None, 256)               131328    \n",
            "                                                                 \n",
            " dense_8 (Dense)             (None, 10)                2570      \n",
            "                                                                 \n",
            "=================================================================\n",
            "Total params: 535,818\n",
            "Trainable params: 535,818\n",
            "Non-trainable params: 0\n",
            "_________________________________________________________________\n",
            "None\n"
          ]
        }
      ]
    },
    {
      "cell_type": "code",
      "source": [
        "### Functional API\n",
        "\n",
        "inputs = keras.Input(shape=(784))\n",
        "x = layers.Dense(512, activation='relu')(inputs)\n",
        "x = layers.Dense(256, activation='relu')(x)\n",
        "outputs = layers.Dense(10, activation='softmax')(x)\n",
        "model = keras.Model(inputs=inputs, outputs=outputs)\n",
        "print(model.summary())\n",
        "model.compile(\n",
        "    loss = keras.losses.SparseCategoricalCrossentropy(from_logits=False),\n",
        "    optimizer = keras.optimizers.Adam(lr=0.001),\n",
        "    metrics = [\"accuracy\"]\n",
        ")\n",
        "\n",
        "model.fit(x_train, y_train, batch_size=32, epochs=5, verbose=2)\n",
        "model.evaluate(x_test, y_test, batch_size=32, verbose=2)"
      ],
      "metadata": {
        "colab": {
          "base_uri": "https://localhost:8080/"
        },
        "id": "UpkfqIw6Vv0X",
        "outputId": "e30b3cc9-f966-4f7f-cbed-b2aca8eb3ae2"
      },
      "execution_count": null,
      "outputs": [
        {
          "output_type": "stream",
          "name": "stdout",
          "text": [
            "Model: \"model\"\n",
            "_________________________________________________________________\n",
            " Layer (type)                Output Shape              Param #   \n",
            "=================================================================\n",
            " input_3 (InputLayer)        [(None, 784)]             0         \n",
            "                                                                 \n",
            " dense_9 (Dense)             (None, 512)               401920    \n",
            "                                                                 \n",
            " dense_10 (Dense)            (None, 256)               131328    \n",
            "                                                                 \n",
            " dense_11 (Dense)            (None, 10)                2570      \n",
            "                                                                 \n",
            "=================================================================\n",
            "Total params: 535,818\n",
            "Trainable params: 535,818\n",
            "Non-trainable params: 0\n",
            "_________________________________________________________________\n",
            "None\n",
            "Epoch 1/5\n"
          ]
        },
        {
          "output_type": "stream",
          "name": "stderr",
          "text": [
            "/usr/local/lib/python3.7/dist-packages/keras/optimizer_v2/adam.py:105: UserWarning: The `lr` argument is deprecated, use `learning_rate` instead.\n",
            "  super(Adam, self).__init__(name, **kwargs)\n"
          ]
        },
        {
          "output_type": "stream",
          "name": "stdout",
          "text": [
            "1875/1875 - 11s - loss: 0.1879 - accuracy: 0.9419 - 11s/epoch - 6ms/step\n",
            "Epoch 2/5\n",
            "1875/1875 - 9s - loss: 0.0805 - accuracy: 0.9738 - 9s/epoch - 5ms/step\n",
            "Epoch 3/5\n",
            "1875/1875 - 9s - loss: 0.0547 - accuracy: 0.9823 - 9s/epoch - 5ms/step\n",
            "Epoch 4/5\n",
            "1875/1875 - 9s - loss: 0.0420 - accuracy: 0.9865 - 9s/epoch - 5ms/step\n",
            "Epoch 5/5\n",
            "1875/1875 - 9s - loss: 0.0322 - accuracy: 0.9894 - 9s/epoch - 5ms/step\n",
            "313/313 - 1s - loss: 0.0901 - accuracy: 0.9771 - 824ms/epoch - 3ms/step\n"
          ]
        },
        {
          "output_type": "execute_result",
          "data": {
            "text/plain": [
              "[0.09006597101688385, 0.9771000146865845]"
            ]
          },
          "metadata": {},
          "execution_count": 31
        }
      ]
    },
    {
      "cell_type": "markdown",
      "source": [
        "## **Convolutional Neural Networks**"
      ],
      "metadata": {
        "id": "zN_Hk4u4fomH"
      }
    },
    {
      "cell_type": "code",
      "source": [
        "import tensorflow as tf\n",
        "from tensorflow import keras\n",
        "from tensorflow.keras import layers\n",
        "from tensorflow.keras.datasets import cifar10\n",
        "\n",
        "(x_train, y_train), (x_test, y_test) = cifar10.load_data()\n",
        "x_train = x_train.astype(\"float32\") / 255.0\n",
        "x_test = x_test.astype(\"float32\") / 255.0\n",
        "\n",
        "# model = keras.Sequential(\n",
        "#     [\n",
        "#      keras.Input(shape=(32, 32, 3)), \n",
        "#      layers.Conv2D(32, 3, padding='valid', activation='relu'),\n",
        "#      layers.MaxPooling2D(pool_size=(2,2)),\n",
        "#      layers.Conv2d(64, 3, activation='relu'),\n",
        "#      layers.MaxPooling2D(),\n",
        "#      layers.Conv2D(128, 3, activation='relu'),\n",
        "#      layers.Dense(64, activation='relu'),\n",
        "#      layers.Dense(10)\n",
        "#     ]\n",
        "# )\n",
        "\n",
        "# print(model.summary())\n",
        "\n",
        "def my_model():\n",
        "  inputs = keras.Input(shape=(32, 32, 3))\n",
        "  x = layers.Conv2D(32, 3)(inputs)\n",
        "  x = layers.BatchNormalization()(x)\n",
        "  x = keras.activations.relu(x)\n",
        "  x = layers.MaxPooling2D()(x)\n",
        "  x = layers.Conv2D(64, 5, padding='same')(x)\n",
        "  x = layers.BatchNormalization()(x)\n",
        "  x = keras.activations.relu(x)\n",
        "  x = layers.Conv2D(128, 3)(x)\n",
        "  x = layers.BatchNormalization()(x)\n",
        "  x = keras.activations.relu(x)\n",
        "  x = layers.Flatten()(x)\n",
        "  x = layers.Dense(64, activation='relu')(x)\n",
        "  outputs = layers.Dense(10)(x)\n",
        "  model = keras.Model(inputs=inputs, outputs=outputs)\n",
        "  return model\n",
        "\n",
        "model = my_model()\n",
        "\n",
        "\n",
        "model.compile(\n",
        "    loss=keras.losses.SparseCategoricalCrossentropy(from_logits=True),\n",
        "    optimizer=keras.optimizers.Adam(lr=3e-4),\n",
        "    metrics=[\"accuracy\"],\n",
        ")\n",
        "\n",
        "model.fit(x_train, y_train, batch_size=64, epochs=10, verbose=2)\n",
        "model.evaluate(x_test, y_test, batch_size=64, verbose=2)"
      ],
      "metadata": {
        "colab": {
          "base_uri": "https://localhost:8080/"
        },
        "id": "U_EsiaQ4frbl",
        "outputId": "7f1f557f-5102-4880-d771-84997cc45157"
      },
      "execution_count": null,
      "outputs": [
        {
          "output_type": "stream",
          "name": "stderr",
          "text": [
            "/usr/local/lib/python3.7/dist-packages/keras/optimizer_v2/adam.py:105: UserWarning: The `lr` argument is deprecated, use `learning_rate` instead.\n",
            "  super(Adam, self).__init__(name, **kwargs)\n"
          ]
        },
        {
          "output_type": "stream",
          "name": "stdout",
          "text": [
            "Epoch 1/10\n",
            "782/782 - 219s - loss: 1.3321 - accuracy: 0.5270 - 219s/epoch - 280ms/step\n",
            "Epoch 2/10\n",
            "782/782 - 225s - loss: 0.9154 - accuracy: 0.6769 - 225s/epoch - 288ms/step\n",
            "Epoch 3/10\n",
            "782/782 - 218s - loss: 0.7541 - accuracy: 0.7358 - 218s/epoch - 279ms/step\n",
            "Epoch 4/10\n",
            "782/782 - 217s - loss: 0.6446 - accuracy: 0.7747 - 217s/epoch - 278ms/step\n",
            "Epoch 5/10\n",
            "782/782 - 217s - loss: 0.5550 - accuracy: 0.8079 - 217s/epoch - 277ms/step\n",
            "Epoch 6/10\n",
            "782/782 - 216s - loss: 0.4759 - accuracy: 0.8354 - 216s/epoch - 277ms/step\n",
            "Epoch 7/10\n",
            "782/782 - 216s - loss: 0.4003 - accuracy: 0.8613 - 216s/epoch - 277ms/step\n",
            "Epoch 8/10\n",
            "782/782 - 217s - loss: 0.3356 - accuracy: 0.8871 - 217s/epoch - 277ms/step\n",
            "Epoch 9/10\n",
            "782/782 - 217s - loss: 0.2804 - accuracy: 0.9056 - 217s/epoch - 278ms/step\n",
            "Epoch 10/10\n",
            "782/782 - 217s - loss: 0.2341 - accuracy: 0.9212 - 217s/epoch - 277ms/step\n",
            "157/157 - 10s - loss: 1.1263 - accuracy: 0.6837 - 10s/epoch - 67ms/step\n"
          ]
        },
        {
          "output_type": "execute_result",
          "data": {
            "text/plain": [
              "[1.126285433769226, 0.6837000250816345]"
            ]
          },
          "metadata": {},
          "execution_count": 38
        }
      ]
    },
    {
      "cell_type": "markdown",
      "source": [
        "BUILDING A CONVOLUTIONAL NEURAL NETWORK WITH THE TENSORFLOW SUBCLASSING API"
      ],
      "metadata": {
        "id": "NHQ2Z0eoa4vc"
      }
    },
    {
      "cell_type": "markdown",
      "source": [
        "TENSORFLOW SUBCLASSING"
      ],
      "metadata": {
        "id": "GicAn3dZ1s9a"
      }
    },
    {
      "cell_type": "code",
      "source": [
        "import tensorflow as tf\n",
        "from tensorflow import keras\n",
        "from tensorflow.keras import layers\n",
        "from tensorflow.keras.datasets import mnist\n",
        "\n",
        "physical_devices = tf.config.list_physical_devices(\"GPU\")\n",
        "print(physical_devices)\n",
        "tf.config.experimental.set_memory_growth(physical_devices[0], True)\n",
        "\n",
        "(x_train, y_train), (x_test, y_test) = mnist.load_data()\n",
        "x_train = x_train.reshape(-1, 28, 28, 1).astype(\"float32\") / 255.0\n",
        "x_test = x_test.reshape(-1, 28, 28, 1).astype(\"float32\") / 255.0\n",
        "\n",
        "#print(x_train.shape, x_test.shape)\n",
        "# CNN -> BatchNOrm -> ReLU (Common structure)\n",
        "\n",
        "class CNNBlock(layers.Layer):\n",
        "  def __init__(self, out_channels, kernel_size=3):\n",
        "    super(CNNBlock, self).__init__()\n",
        "    self.conv = layers.Conv2D(out_channels, kernel_size, padding='same')\n",
        "    self.bn = layers.BatchNormalization()\n",
        "\n",
        "  def call(self, input_tensor, training=False):\n",
        "    x = self.conv(input_tensor)\n",
        "    x = self.bn(x, training=training)\n",
        "    x = tf.nn.relu(x)\n",
        "    return x\n",
        "\n",
        "model = keras.Sequential(\n",
        "    [\n",
        "     CNNBlock(32),\n",
        "     CNNBlock(64),\n",
        "     CNNBlock(128),\n",
        "     layers.Flatten(),\n",
        "     layers.Dense(10)\n",
        "    ]\n",
        ")\n",
        "\n",
        "model.compile(\n",
        "    optimizer=keras.optimizers.Adam(),\n",
        "    loss = keras.losses.SparseCategoricalCrossentropy(from_logits=True),\n",
        "    metrics = [\"accuracy\"]\n",
        ")\n",
        "\n",
        "\n",
        "model.fit(x_train, y_train, batch_size=64, epochs=3, verbose=2)\n",
        "model.evaluate(x_test, y_test, batch_size=64, verbose=2) \n"
      ],
      "metadata": {
        "colab": {
          "base_uri": "https://localhost:8080/"
        },
        "id": "vk740XQ3bEYL",
        "outputId": "f8bf3caa-826a-4d11-df24-6b9a46cd1c41"
      },
      "execution_count": null,
      "outputs": [
        {
          "output_type": "stream",
          "name": "stdout",
          "text": [
            "[PhysicalDevice(name='/physical_device:GPU:0', device_type='GPU')]\n",
            "Epoch 1/3\n",
            "938/938 - 22s - loss: 0.5508 - accuracy: 0.9452 - 22s/epoch - 23ms/step\n",
            "Epoch 2/3\n",
            "938/938 - 11s - loss: 0.0938 - accuracy: 0.9814 - 11s/epoch - 11ms/step\n",
            "Epoch 3/3\n",
            "938/938 - 11s - loss: 0.0364 - accuracy: 0.9891 - 11s/epoch - 11ms/step\n",
            "157/157 - 1s - loss: 0.0603 - accuracy: 0.9846 - 939ms/epoch - 6ms/step\n"
          ]
        },
        {
          "output_type": "execute_result",
          "data": {
            "text/plain": [
              "[0.06026289239525795, 0.9846000075340271]"
            ]
          },
          "metadata": {},
          "execution_count": 3
        }
      ]
    },
    {
      "cell_type": "code",
      "source": [
        "class ResBlock(layers.Layer):\n",
        "  def __init__(self, channels):\n",
        "    super(ResBlock, self).__init__()\n",
        "    self.cnn1 = CNNBlock(channels[0])\n",
        "    self.cnn2 = CNNBlock(channels[1])\n",
        "    self.cnn3 = CNNBlock(channels[2])\n",
        "    self.pooling = layers.MaxPooling2D()\n",
        "    self.identity_mapping = layers.Conv2D(channels[1], 1, padding='same')\n",
        "\n",
        "  def call(self, input_tensor, training=False):\n",
        "    x = self.cnn1(input_tensor, training=training)\n",
        "    x = self.cnn2(x, training=training)\n",
        "    x = self.cnn3(\n",
        "        x + self.identity_mapping(input_tensor), training=training\n",
        "    )\n",
        "    return self.pooling(x)\n",
        "\n",
        "class ResNet_Like(keras.Model):\n",
        "  def __init__(self, num_classes=10):\n",
        "    super(ResNet_Like, self).__init__()\n",
        "    self.block1 = ResBlock([32, 32, 64])\n",
        "    self.block2 = ResBlock([128, 128, 256])\n",
        "    self.block3 = ResBlock([128, 256, 512])\n",
        "    self.pool = layers.GlobalAveragePooling2D()\n",
        "    self.classifier = layers.Dense(num_classes)\n",
        "\n",
        "  def call(self, input_tensor, training=False):\n",
        "    x = self.block1(input_tensor, training=training)\n",
        "    x = self.block2(x, training=training)\n",
        "    x = self.block3(x, training=training)\n",
        "    x = self.pool(x)\n",
        "    return self.classifier(x)\n",
        "\n",
        "  def model(self):\n",
        "    x = keras.Input(shape=(28, 28, 1))\n",
        "    return keras.Model(inputs=[x], outputs=self.call(x))\n",
        "\n",
        "model = model = ResNet_Like(num_classes=10)\n",
        "\n",
        "model.compile(\n",
        "    optimizer=keras.optimizers.Adam(),\n",
        "    loss = keras.losses.SparseCategoricalCrossentropy(from_logits=True),\n",
        "    metrics = [\"accuracy\"]\n",
        ")\n",
        "\n",
        "\n",
        "model.fit(x_train, y_train, batch_size=64, epochs=3, verbose=2)\n",
        "print(model.model().summary())\n",
        "model.evaluate(x_test, y_test, batch_size=64, verbose=2) "
      ],
      "metadata": {
        "colab": {
          "base_uri": "https://localhost:8080/"
        },
        "id": "IgWBnavJALYu",
        "outputId": "b02a5b41-a587-481b-8543-0a267395c177"
      },
      "execution_count": null,
      "outputs": [
        {
          "output_type": "stream",
          "name": "stdout",
          "text": [
            "Epoch 1/3\n",
            "938/938 - 25s - loss: 0.0845 - accuracy: 0.9750 - 25s/epoch - 27ms/step\n",
            "Epoch 2/3\n",
            "938/938 - 23s - loss: 0.0360 - accuracy: 0.9887 - 23s/epoch - 25ms/step\n",
            "Epoch 3/3\n",
            "938/938 - 24s - loss: 0.0264 - accuracy: 0.9921 - 24s/epoch - 25ms/step\n",
            "Model: \"model\"\n",
            "_________________________________________________________________\n",
            " Layer (type)                Output Shape              Param #   \n",
            "=================================================================\n",
            " input_1 (InputLayer)        [(None, 28, 28, 1)]       0         \n",
            "                                                                 \n",
            " res_block (ResBlock)        (None, 14, 14, 64)        28640     \n",
            "                                                                 \n",
            " res_block_1 (ResBlock)      (None, 7, 7, 256)         526976    \n",
            "                                                                 \n",
            " res_block_2 (ResBlock)      (None, 3, 3, 512)         1839744   \n",
            "                                                                 \n",
            " global_average_pooling2d (G  (None, 512)              0         \n",
            " lobalAveragePooling2D)                                          \n",
            "                                                                 \n",
            " dense_2 (Dense)             (None, 10)                5130      \n",
            "                                                                 \n",
            "=================================================================\n",
            "Total params: 2,400,490\n",
            "Trainable params: 2,397,418\n",
            "Non-trainable params: 3,072\n",
            "_________________________________________________________________\n",
            "None\n",
            "157/157 - 2s - loss: 0.0641 - accuracy: 0.9795 - 2s/epoch - 11ms/step\n"
          ]
        },
        {
          "output_type": "execute_result",
          "data": {
            "text/plain": [
              "[0.06407003104686737, 0.9794999957084656]"
            ]
          },
          "metadata": {},
          "execution_count": 4
        }
      ]
    },
    {
      "cell_type": "markdown",
      "source": [
        "## **TENSORFLOW CUSTOME LAYERS**"
      ],
      "metadata": {
        "id": "bPOxrpTHIOMO"
      }
    },
    {
      "cell_type": "code",
      "source": [
        "import tensorflow as tf\n",
        "from tensorflow import keras\n",
        "from tensorflow.keras import layers\n",
        "from tensorflow.keras.datasets import mnist\n",
        "\n",
        "physical_devices = tf.config.list_physical_devices(\"GPU\")\n",
        "print(physical_devices)\n",
        "tf.config.experimental.set_memory_growth(physical_devices[0], True)\n",
        "\n",
        "(x_train, y_train), (x_test, y_test) = mnist.load_data()\n",
        "x_train = x_train.reshape(-1, 28, 28, 1).astype(\"float32\") / 255.0\n",
        "x_test = x_test.reshape(-1, 28, 28, 1).astype(\"float32\") / 255.0\n",
        "\n",
        "\n",
        "class Dense(layers.Layer):\n",
        "  def __init__(self, units):\n",
        "    super(Dense, self).__init__()\n",
        "    self.units = units\n",
        "    \n",
        "  def build(self, input_shape):\n",
        "    self.w = self.add_weight(\n",
        "        name='w',\n",
        "        shape=(input_shape[-1], self.units),\n",
        "        initializer='random_normal',\n",
        "        trainable=True,\n",
        "    )\n",
        "\n",
        "    self.b = self.add_weight(\n",
        "        name='b', shape=(self.units,),\n",
        "        initializer='zeros',\n",
        "        trainable=True\n",
        "    )\n",
        "\n",
        "  def call(self, inputs):\n",
        "    return tf.matmul(inputs, self.w) + self.b\n",
        "\n",
        "class MyReLU(layers.Layer):\n",
        "  def __init__(self):\n",
        "    super(MyReLU, self).__init__()\n",
        "\n",
        "  def call(self, x):\n",
        "    return tf.math.maximum(x, 0)\n",
        "\n",
        "class MyModel(keras.Model):\n",
        "  def __init__(self, num_classes=10):\n",
        "    super(MyModel, self).__init__()\n",
        "    self.dense1 = Dense(64)\n",
        "    self.dense2 = Dense(num_classes)\n",
        "    self.relu = MyReLU()\n",
        "\n",
        "  def call(self, input_tensor):\n",
        "    x = self.relu(self.dense1(input_tensor))\n",
        "    return self.dense2(x)\n",
        "\n",
        "model = MyModel()\n",
        "model.compile(\n",
        "    optimizer=keras.optimizers.Adam(),\n",
        "    loss = keras.losses.SparseCategoricalCrossentropy(from_logits=True),\n",
        "    metrics = [\"accuracy\"]\n",
        ")\n",
        "\n",
        "model.evaluate(x_test, y_test, batch_size=64, verbose=2) "
      ],
      "metadata": {
        "colab": {
          "base_uri": "https://localhost:8080/",
          "height": 1000
        },
        "id": "GfZLgyTWIRfs",
        "outputId": "f8b16a75-4209-43fd-8174-7e328cf5e703"
      },
      "execution_count": null,
      "outputs": [
        {
          "output_type": "stream",
          "name": "stdout",
          "text": [
            "[PhysicalDevice(name='/physical_device:GPU:0', device_type='GPU')]\n"
          ]
        },
        {
          "output_type": "error",
          "ename": "InvalidArgumentError",
          "evalue": "ignored",
          "traceback": [
            "\u001b[0;31m---------------------------------------------------------------------------\u001b[0m",
            "\u001b[0;31mInvalidArgumentError\u001b[0m                      Traceback (most recent call last)",
            "\u001b[0;32m<ipython-input-3-85d56cf113a5>\u001b[0m in \u001b[0;36m<module>\u001b[0;34m()\u001b[0m\n\u001b[1;32m     60\u001b[0m )\n\u001b[1;32m     61\u001b[0m \u001b[0;34m\u001b[0m\u001b[0m\n\u001b[0;32m---> 62\u001b[0;31m \u001b[0mmodel\u001b[0m\u001b[0;34m.\u001b[0m\u001b[0mevaluate\u001b[0m\u001b[0;34m(\u001b[0m\u001b[0mx_test\u001b[0m\u001b[0;34m,\u001b[0m \u001b[0my_test\u001b[0m\u001b[0;34m,\u001b[0m \u001b[0mbatch_size\u001b[0m\u001b[0;34m=\u001b[0m\u001b[0;36m64\u001b[0m\u001b[0;34m,\u001b[0m \u001b[0mverbose\u001b[0m\u001b[0;34m=\u001b[0m\u001b[0;36m2\u001b[0m\u001b[0;34m)\u001b[0m\u001b[0;34m\u001b[0m\u001b[0;34m\u001b[0m\u001b[0m\n\u001b[0m",
            "\u001b[0;32m/usr/local/lib/python3.7/dist-packages/keras/utils/traceback_utils.py\u001b[0m in \u001b[0;36merror_handler\u001b[0;34m(*args, **kwargs)\u001b[0m\n\u001b[1;32m     65\u001b[0m     \u001b[0;32mexcept\u001b[0m \u001b[0mException\u001b[0m \u001b[0;32mas\u001b[0m \u001b[0me\u001b[0m\u001b[0;34m:\u001b[0m  \u001b[0;31m# pylint: disable=broad-except\u001b[0m\u001b[0;34m\u001b[0m\u001b[0;34m\u001b[0m\u001b[0m\n\u001b[1;32m     66\u001b[0m       \u001b[0mfiltered_tb\u001b[0m \u001b[0;34m=\u001b[0m \u001b[0m_process_traceback_frames\u001b[0m\u001b[0;34m(\u001b[0m\u001b[0me\u001b[0m\u001b[0;34m.\u001b[0m\u001b[0m__traceback__\u001b[0m\u001b[0;34m)\u001b[0m\u001b[0;34m\u001b[0m\u001b[0;34m\u001b[0m\u001b[0m\n\u001b[0;32m---> 67\u001b[0;31m       \u001b[0;32mraise\u001b[0m \u001b[0me\u001b[0m\u001b[0;34m.\u001b[0m\u001b[0mwith_traceback\u001b[0m\u001b[0;34m(\u001b[0m\u001b[0mfiltered_tb\u001b[0m\u001b[0;34m)\u001b[0m \u001b[0;32mfrom\u001b[0m \u001b[0;32mNone\u001b[0m\u001b[0;34m\u001b[0m\u001b[0;34m\u001b[0m\u001b[0m\n\u001b[0m\u001b[1;32m     68\u001b[0m     \u001b[0;32mfinally\u001b[0m\u001b[0;34m:\u001b[0m\u001b[0;34m\u001b[0m\u001b[0;34m\u001b[0m\u001b[0m\n\u001b[1;32m     69\u001b[0m       \u001b[0;32mdel\u001b[0m \u001b[0mfiltered_tb\u001b[0m\u001b[0;34m\u001b[0m\u001b[0;34m\u001b[0m\u001b[0m\n",
            "\u001b[0;32m/usr/local/lib/python3.7/dist-packages/tensorflow/python/eager/execute.py\u001b[0m in \u001b[0;36mquick_execute\u001b[0;34m(op_name, num_outputs, inputs, attrs, ctx, name)\u001b[0m\n\u001b[1;32m     53\u001b[0m     \u001b[0mctx\u001b[0m\u001b[0;34m.\u001b[0m\u001b[0mensure_initialized\u001b[0m\u001b[0;34m(\u001b[0m\u001b[0;34m)\u001b[0m\u001b[0;34m\u001b[0m\u001b[0;34m\u001b[0m\u001b[0m\n\u001b[1;32m     54\u001b[0m     tensors = pywrap_tfe.TFE_Py_Execute(ctx._handle, device_name, op_name,\n\u001b[0;32m---> 55\u001b[0;31m                                         inputs, attrs, num_outputs)\n\u001b[0m\u001b[1;32m     56\u001b[0m   \u001b[0;32mexcept\u001b[0m \u001b[0mcore\u001b[0m\u001b[0;34m.\u001b[0m\u001b[0m_NotOkStatusException\u001b[0m \u001b[0;32mas\u001b[0m \u001b[0me\u001b[0m\u001b[0;34m:\u001b[0m\u001b[0;34m\u001b[0m\u001b[0;34m\u001b[0m\u001b[0m\n\u001b[1;32m     57\u001b[0m     \u001b[0;32mif\u001b[0m \u001b[0mname\u001b[0m \u001b[0;32mis\u001b[0m \u001b[0;32mnot\u001b[0m \u001b[0;32mNone\u001b[0m\u001b[0;34m:\u001b[0m\u001b[0;34m\u001b[0m\u001b[0;34m\u001b[0m\u001b[0m\n",
            "\u001b[0;31mInvalidArgumentError\u001b[0m: Graph execution error:\n\nDetected at node 'Equal' defined at (most recent call last):\n    File \"/usr/lib/python3.7/runpy.py\", line 193, in _run_module_as_main\n      \"__main__\", mod_spec)\n    File \"/usr/lib/python3.7/runpy.py\", line 85, in _run_code\n      exec(code, run_globals)\n    File \"/usr/local/lib/python3.7/dist-packages/ipykernel_launcher.py\", line 16, in <module>\n      app.launch_new_instance()\n    File \"/usr/local/lib/python3.7/dist-packages/traitlets/config/application.py\", line 846, in launch_instance\n      app.start()\n    File \"/usr/local/lib/python3.7/dist-packages/ipykernel/kernelapp.py\", line 499, in start\n      self.io_loop.start()\n    File \"/usr/local/lib/python3.7/dist-packages/tornado/platform/asyncio.py\", line 132, in start\n      self.asyncio_loop.run_forever()\n    File \"/usr/lib/python3.7/asyncio/base_events.py\", line 541, in run_forever\n      self._run_once()\n    File \"/usr/lib/python3.7/asyncio/base_events.py\", line 1786, in _run_once\n      handle._run()\n    File \"/usr/lib/python3.7/asyncio/events.py\", line 88, in _run\n      self._context.run(self._callback, *self._args)\n    File \"/usr/local/lib/python3.7/dist-packages/tornado/platform/asyncio.py\", line 122, in _handle_events\n      handler_func(fileobj, events)\n    File \"/usr/local/lib/python3.7/dist-packages/tornado/stack_context.py\", line 300, in null_wrapper\n      return fn(*args, **kwargs)\n    File \"/usr/local/lib/python3.7/dist-packages/zmq/eventloop/zmqstream.py\", line 452, in _handle_events\n      self._handle_recv()\n    File \"/usr/local/lib/python3.7/dist-packages/zmq/eventloop/zmqstream.py\", line 481, in _handle_recv\n      self._run_callback(callback, msg)\n    File \"/usr/local/lib/python3.7/dist-packages/zmq/eventloop/zmqstream.py\", line 431, in _run_callback\n      callback(*args, **kwargs)\n    File \"/usr/local/lib/python3.7/dist-packages/tornado/stack_context.py\", line 300, in null_wrapper\n      return fn(*args, **kwargs)\n    File \"/usr/local/lib/python3.7/dist-packages/ipykernel/kernelbase.py\", line 283, in dispatcher\n      return self.dispatch_shell(stream, msg)\n    File \"/usr/local/lib/python3.7/dist-packages/ipykernel/kernelbase.py\", line 233, in dispatch_shell\n      handler(stream, idents, msg)\n    File \"/usr/local/lib/python3.7/dist-packages/ipykernel/kernelbase.py\", line 399, in execute_request\n      user_expressions, allow_stdin)\n    File \"/usr/local/lib/python3.7/dist-packages/ipykernel/ipkernel.py\", line 208, in do_execute\n      res = shell.run_cell(code, store_history=store_history, silent=silent)\n    File \"/usr/local/lib/python3.7/dist-packages/ipykernel/zmqshell.py\", line 537, in run_cell\n      return super(ZMQInteractiveShell, self).run_cell(*args, **kwargs)\n    File \"/usr/local/lib/python3.7/dist-packages/IPython/core/interactiveshell.py\", line 2718, in run_cell\n      interactivity=interactivity, compiler=compiler, result=result)\n    File \"/usr/local/lib/python3.7/dist-packages/IPython/core/interactiveshell.py\", line 2828, in run_ast_nodes\n      if self.run_code(code, result):\n    File \"/usr/local/lib/python3.7/dist-packages/IPython/core/interactiveshell.py\", line 2882, in run_code\n      exec(code_obj, self.user_global_ns, self.user_ns)\n    File \"<ipython-input-3-85d56cf113a5>\", line 62, in <module>\n      model.evaluate(x_test, y_test, batch_size=64, verbose=2)\n    File \"/usr/local/lib/python3.7/dist-packages/keras/utils/traceback_utils.py\", line 64, in error_handler\n      return fn(*args, **kwargs)\n    File \"/usr/local/lib/python3.7/dist-packages/keras/engine/training.py\", line 1716, in evaluate\n      tmp_logs = self.test_function(iterator)\n    File \"/usr/local/lib/python3.7/dist-packages/keras/engine/training.py\", line 1525, in test_function\n      return step_function(self, iterator)\n    File \"/usr/local/lib/python3.7/dist-packages/keras/engine/training.py\", line 1514, in step_function\n      outputs = model.distribute_strategy.run(run_step, args=(data,))\n    File \"/usr/local/lib/python3.7/dist-packages/keras/engine/training.py\", line 1507, in run_step\n      outputs = model.test_step(data)\n    File \"/usr/local/lib/python3.7/dist-packages/keras/engine/training.py\", line 1474, in test_step\n      return self.compute_metrics(x, y, y_pred, sample_weight)\n    File \"/usr/local/lib/python3.7/dist-packages/keras/engine/training.py\", line 957, in compute_metrics\n      self.compiled_metrics.update_state(y, y_pred, sample_weight)\n    File \"/usr/local/lib/python3.7/dist-packages/keras/engine/compile_utils.py\", line 459, in update_state\n      metric_obj.update_state(y_t, y_p, sample_weight=mask)\n    File \"/usr/local/lib/python3.7/dist-packages/keras/utils/metrics_utils.py\", line 70, in decorated\n      update_op = update_state_fn(*args, **kwargs)\n    File \"/usr/local/lib/python3.7/dist-packages/keras/metrics.py\", line 178, in update_state_fn\n      return ag_update_state(*args, **kwargs)\n    File \"/usr/local/lib/python3.7/dist-packages/keras/metrics.py\", line 729, in update_state\n      matches = ag_fn(y_true, y_pred, **self._fn_kwargs)\n    File \"/usr/local/lib/python3.7/dist-packages/keras/metrics.py\", line 4086, in sparse_categorical_accuracy\n      return tf.cast(tf.equal(y_true, y_pred), backend.floatx())\nNode: 'Equal'\nrequired broadcastable shapes\n\t [[{{node Equal}}]] [Op:__inference_test_function_324]"
          ]
        }
      ]
    }
  ]
}